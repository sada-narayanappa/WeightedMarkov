{
 "cells": [
  {
   "cell_type": "markdown",
   "metadata": {},
   "source": [
    "## References:\n",
    "\n",
    "1. Higher-order multivariate Markov chains and their applications; Wai-Ki Ching , Michael K.Ng , Eric S.Fungb, 2008\n",
    "\n",
    "=>Implementationa and usage example shown here\n",
    "\n",
    "2. A multivariate Markov chain model for categorical data sequences and its applications in demand predictions\n",
    "   Wai‐Ki Ching  Eric S. Fung  Michael K. Ng\n",
    "    \n",
    "\n",
    "3. Higher-Order Markov Chain Models for Categorical Data Sequences* Wai Ki Ching, Eric S. Fung, Michael K. Ng [Implemented here as WeightedMarkov]\n",
    "\n",
    "0. <a src=\"https://www.google.com/url?sa=t&rct=j&q=&esrc=s&source=web&cd=1&cad=rja&uact=8&ved=0ahUKEwjM66WC3JbXAhVil1QKHTj1CakQFggtMAA&url=http%3A%2F%2Fwww.ccsenet.org%2Fjournal%2Findex.php%2Fmas%2Farticle%2FviewFile%2F6040%2F4874_1_1_1&usg=AOvVaw0fZh5XmtYpF14lVZRfr6aZ\">  Application of Markov Chains to Analyze and Predict the Time Series </a>\n"
   ]
  },
  {
   "cell_type": "code",
   "execution_count": 149,
   "metadata": {
    "collapsed": false
   },
   "outputs": [],
   "source": [
    "import numpy as np;\n",
    "import pandas as pd;\n",
    "import importlib\n",
    "import numpy as np\n",
    "from collections import defaultdict\n",
    "from WeightedMarkov.NaiveMarkov import *\n",
    "from WeightedMarkov.WeightedHOMVMarkov import *\n"
   ]
  },
  {
   "cell_type": "code",
   "execution_count": 150,
   "metadata": {
    "collapsed": false,
    "scrolled": false
   },
   "outputs": [
    {
     "data": {
      "text/latex": [
       "$$c =\\begin{bmatrix}\n",
       "0 & 0 & 0 & 0 & 1\n",
       "\\end{bmatrix}\n",
       "A =\\begin{bmatrix}\n",
       "1 & 1 & 1 & 1 & 0\\\\\\\\-1 & -1 & -1 & -1 & 0\\\\\\\\-1 & 0 & 0 & 0 & 0\\\\\\\\0 & -1 & 0 & 0 & 0\\\\\\\\0 & 0 & -1 & 0 & 0\\\\\\\\0 & 0 & 0 & -1 & 0\\\\\\\\-1/4 & -1/6 & -11/36 & -1/6 & -1\\\\\\\\-1/2 & -7/12 & -4/9 & -7/12 & -1\\\\\\\\1/4 & 1/6 & 11/36 & 1/6 & -1\\\\\\\\1/2 & 7/12 & 4/9 & 7/12 & -1\\\\\\\\0 & 0 & 0 & 0 & -1\n",
       "\\end{bmatrix}\n",
       "b =\\begin{bmatrix}\n",
       "1\\\\\\\\-1\\\\\\\\0\\\\\\\\0\\\\\\\\0\\\\\\\\0\\\\\\\\-1/4\\\\\\\\-5/12\\\\\\\\1/4\\\\\\\\5/12\\\\\\\\0\n",
       "\\end{bmatrix}\n",
       "description =\\begin{bmatrix}\n",
       "\\lambda_0+\\lambda_1+\\lambda_2+\\lambda_3 & <= & +1\\\\\\\\-\\lambda_0-\\lambda_1-\\lambda_2-\\lambda_3 & <= & -1\\\\\\\\\\lambda_0 & >= & 0\\\\\\\\\\lambda_1 & >= & 0\\\\\\\\\\lambda_2 & >= & 0\\\\\\\\\\lambda_3 & >= & 0\\\\\\\\->\\\\\\\\->\\\\\\\\->\\\\\\\\->\\\\\\\\w & >= & 0\n",
       "\\end{bmatrix}\n",
       "$$"
      ],
      "text/plain": [
       "<IPython.core.display.Math object>"
      ]
     },
     "metadata": {},
     "output_type": "display_data"
    },
    {
     "data": {
      "text/latex": [
       "$$\n",
       "        x^{(j)}_{r+1} = \\sum_{k=1}^{s}\\sum_{h=1}^{n} \\lambda^{(h)}_{jk} P^{(jk)}_h x^{(k)}_{r-h+1}, \n",
       "        j = 1,2,...s, n = order\n",
       "        $$"
      ],
      "text/plain": [
       "<IPython.core.display.Math object>"
      ]
     },
     "metadata": {},
     "output_type": "display_data"
    },
    {
     "data": {
      "text/latex": [
       "$$\n",
       "        \\begin{equation}\n",
       "        \\begin{aligned}\n",
       "        x^{(1)}_{r+1} &= 0.0948 P_1^{(1, 1)} X_{r}^{(1)} +0.031 P_2^{(1, 1)} X_{r-1}^{(1)} +0.8431 P_1^{(1, 2)} X_{r}^{(2)} +0.031 P_2^{(1, 2)} X_{r-1}^{(2)} \\\\x^{(2)}_{r+1} &= 0.2 P_1^{(2, 1)} X_{r}^{(1)} +0.2 P_2^{(2, 1)} X_{r-1}^{(1)} +0.6 P_1^{(2, 2)} X_{r}^{(2)} \\\\\n",
       "        \\end{aligned}\n",
       "        \\end{equation}\n",
       "        $$"
      ],
      "text/plain": [
       "<IPython.core.display.Math object>"
      ]
     },
     "metadata": {},
     "output_type": "display_data"
    },
    {
     "name": "stdout",
     "output_type": "stream",
     "text": [
      "X_(0) => 0.0948 0.0310 0.8431 0.0310 \n",
      "X_(1) => 0.2000 0.2000 0.6000 0.0000 \n"
     ]
    }
   ],
   "source": [
    "s1 = [2,1,3,3,4,3,2,1,3,3,2,1]\n",
    "s1 = [1,0,2,2,3,2,1,0,2,2,1,0]\n",
    "s2 = [2,4,4,4,4,2,3,3,1,4,3,3]\n",
    "s2 = [1,3,3,3,3,1,2,2,0,3,2,2]\n",
    "X=[s1,s2]\n",
    "order = 2\n",
    "n=2       # => order\n",
    "s=len(X)  # => Number of series\n",
    "hm = WeightedHOMVMarkov(X,4, order)\n",
    "f, p, x = hm.fit();\n",
    "#dumps=hm.Dump()\n",
    "\n",
    "c,A,b = hm.PrepareMatrices()\n",
    "hm.DisplayCAb(0)\n",
    "# => One is good - uncomment to see the other CAB too\n",
    "#hm.DisplayCAb(1)\n",
    "#print (\"c=\", c, \"\\nA=\\n\", A, \"\\nb=\", b)\n",
    "sol = hm.Solve(False)\n",
    "hm.DumpSolution()\n",
    "for i,s in enumerate(hm.sol):\n",
    "    print(\"X_({}) => \".format(i), end='')\n",
    "    for f in np.array([_ for _ in sol[i]['x'].T][:-1]):\n",
    "        print(\"{0:.4f}\".format(f), end=' ' )\n",
    "    print()\n"
   ]
  },
  {
   "cell_type": "code",
   "execution_count": 151,
   "metadata": {
    "collapsed": false
   },
   "outputs": [
    {
     "name": "stdout",
     "output_type": "stream",
     "text": [
      "0 [ 0.0155  0.1686  0.6472  0.1686] 2 2\n",
      "1 [ 0.2   0.12  0.12  0.56] 3 3\n",
      "=======================Metrics :  None\n",
      "orig=>[2 2 2 2 1 0 0 2 2 0]\n",
      "pred=>[2, 2, 3, 2, 1, 0, 2, 2, 1, 0]\n",
      "Total 10, correct 7, acc: 70.00 %\n",
      "class: 0 total: 3, correct: 2, accuracy: 0.6666666666666666\n",
      "class: 1 total: 1, correct: 1, accuracy: 1.0\n",
      "class: 2 total: 6, correct: 4, accuracy: 0.6666666666666666\n",
      "=======================Metrics :  None\n",
      "orig=>[3 3 3 3 2 2 2 3 3 2]\n",
      "pred=>[3, 3, 3, 1, 2, 2, 0, 3, 2, 2]\n",
      "Total 10, correct 7, acc: 70.00 %\n",
      "class: 2 total: 4, correct: 3, accuracy: 0.75\n",
      "class: 3 total: 6, correct: 4, accuracy: 0.6666666666666666\n"
     ]
    }
   ],
   "source": [
    "hm.SelfEval();\n"
   ]
  },
  {
   "cell_type": "markdown",
   "metadata": {},
   "source": [
    "## Example  from Reference [1]"
   ]
  },
  {
   "cell_type": "code",
   "execution_count": 152,
   "metadata": {
    "collapsed": false
   },
   "outputs": [
    {
     "data": {
      "text/latex": [
       "$$\n",
       "        x^{(j)}_{r+1} = \\sum_{k=1}^{s}\\sum_{h=1}^{n} \\lambda^{(h)}_{jk} P^{(jk)}_h x^{(k)}_{r-h+1}, \n",
       "        j = 1,2,...s, n = order\n",
       "        $$"
      ],
      "text/plain": [
       "<IPython.core.display.Math object>"
      ]
     },
     "metadata": {},
     "output_type": "display_data"
    },
    {
     "data": {
      "text/latex": [
       "$$\n",
       "        \\begin{equation}\n",
       "        \\begin{aligned}\n",
       "        x^{(1)}_{r+1} &=  P_1^{(1, 2)} X_{r}^{(2)} \\\\x^{(2)}_{r+1} &= 0.6364 P_1^{(2, 2)} X_{r}^{(2)} +0.3636 P_3^{(2, 2)} X_{r-2}^{(2)} \\\\x^{(3)}_{r+1} &=  P_1^{(3, 5)} X_{r}^{(5)} \\\\x^{(4)}_{r+1} &= 0.2994 P_8^{(4, 2)} X_{r-7}^{(2)} +0.4324 P_1^{(4, 5)} X_{r}^{(5)} +0.2681 P_2^{(4, 5)} X_{r-1}^{(5)} \\\\x^{(5)}_{r+1} &= 0.2718 P_8^{(5, 2)} X_{r-7}^{(2)} +0.6738 P_1^{(5, 4)} X_{r}^{(4)} +0.0544 P_2^{(5, 5)} X_{r-1}^{(5)} \\\\\n",
       "        \\end{aligned}\n",
       "        \\end{equation}\n",
       "        $$"
      ],
      "text/plain": [
       "<IPython.core.display.Math object>"
      ]
     },
     "metadata": {},
     "output_type": "display_data"
    }
   ],
   "source": [
    "ProductA=\" 6 6 6 6 2 6 2 6 2 2 6 2 6 6 2 6 2 4 4 4 5 6 6 1 2 2 6 6 6 2 6 2 6 6 2 6 2 2 6 2 1 2 2 6 6 6 2 1262662262226262222262266661226222262222332326666262662 6266266223433131216166166262622266162612162622226616622 62223444646166166661622266662662262622262226666322622222 26262226226626662223334166166161666616662122222236666626\"\n",
    "ProductB=\" 1 6 6 1 6 1 1 1 1 1 1 6 6 6 1 2 1 6 6 1 1 1 6 6 2 1 6 6 1 1 1 6 1 2 1 6 2 2 2 2 2 6 1 6 6 1 2 1666111661111611216161162626663661662223226661162662626 6136611122322622216161162111221611112611116161216166161 22223322266662116111616161611662116611262666126161111616 11661661616611662222222226666166616616611613335166666666\"\n",
    "ProductC=\" 6 6 6 6 6 6 6 2 6 6 6 6 6 6 6 2 6 6 6 6 2 6 6 6 2 2 6 6 6 6 6 6 6 1 6 2 6 6 6 6 6 6 6 6 2 6 6 1261661626666666266626616666666336321221661616666661666 1666666666662666666662266261266626626626162621266226262 26266622266266226121266226612216262211563616612261626616 26266616166222123616161616661166666166616116666666616616\"\n",
    "ProductD=\" 6 2 2 2 2 3 3 4 4 4 5 4 3 3 6 2 6 6 6 3 4 4 3 3 3 3 3 2 6 6 3 4 4 4 4 3 4 2 6 2 2 6 2 2 6 6 3 4544636662626622644543434462662262662662662626355544436 2662626226266264444446366262626266222222222333554533362 66226222262322363223444455446626262222222554455262662626 22334454443436262222222222234444544432226222626262222232\"\n",
    "ProductE=\" 6 2 2 2 2 3 3 4 4 4 5 4 3 3 6 2 6 6 2 3 4 4 3 4 4 3 3 2 2 6 3 4 4 4 4 3 4 2 3 2 2 6 3 3 6 6 3 4545332662626622644444454462662262662662662626344444446 2662626666262264444446336222626222222222222364555524662 66226222262322363223444455433626222632222554444362662626 22334454444436262226222222234444544432226662626262222222\"\n",
    "\n",
    "pA=[int(c) - 1 for c in ProductA if c != ' ']\n",
    "pB=[int(c) - 1 for c in ProductB if c != ' ']\n",
    "pC=[int(c) - 1 for c in ProductC if c != ' ']\n",
    "pD=[int(c) - 1 for c in ProductD if c != ' ']\n",
    "pE=[int(c) - 1 for c in ProductE if c != ' ']\n",
    "X=[pA,pB,pC,pD,pE]\n",
    "    \n",
    "order = 8\n",
    "n=6       # => number of States\n",
    "s=len(X)  # => Number of series\n",
    "\n",
    "hm = WeightedHOMVMarkov(X, n, order)\n",
    "f, p, x = hm.fit();\n",
    "#h.Dump()\n",
    "c,A,b = hm.PrepareMatrices()\n",
    "#hm.DisplayCAb(0)\n",
    "#hm.DisplayCAb(1)\n",
    "#print (\"c=\", c, \"\\nA=\\n\", A, \"\\nb=\", b)\n",
    "sol = hm.Solve(False)\n",
    "hm.DumpSolution();\n",
    "\n",
    "#for i,s in enumerate(hm.sol):\n",
    "#    print(\"X_({}) => \".format(i), end='')\n",
    "#    for f in np.array([_ for _ in sol[i]['x'].T][:-1]):\n",
    "#        print(\"{0:.4f}\".format(f), end=' ' )\n",
    "#    print()\n",
    "    "
   ]
  },
  {
   "cell_type": "code",
   "execution_count": 153,
   "metadata": {
    "collapsed": false
   },
   "outputs": [
    {
     "name": "stdout",
     "output_type": "stream",
     "text": [
      "0 [ 0.0606  0.4444  0.0101  0.0101  0.0101  0.4646] 5 1\n",
      "1 [ 0.404   0.1368  0.0239  0.      0.      0.4353] 5 0\n",
      "2 [ 0.1639  0.2295  0.      0.      0.      0.6066] 5 5\n",
      "3 [ 0.      0.2145  0.1397  0.3594  0.1184  0.1679] 3 3\n",
      "4 [ 0.      0.1324  0.1348  0.5013  0.1321  0.0995] 3 3\n",
      "=======================Metrics :  None\n",
      "orig=>[5 5 5 5 5 5 5 5 1 5 5 5 5 5 5 5 5 1 5 5 5 5 5 5 5 5 1 5 5 1 1 1 1 1 5 5 5 5 5 1 5 5 5 5 5 5 5 5 5 5 5 5 5 5 5 5 1 5 5 5 5 5 5 5 1 5 1 5 5 5 1 5 5 5 5 5 1 1 1 1]\n",
      "pred=>[1, 1, 5, 1, 5, 5, 1, 5, 1, 3, 3, 3, 4, 5, 5, 0, 1, 1, 5, 5, 5, 1, 5, 1, 5, 5, 1, 5, 1, 1, 5, 1, 0, 1, 1, 5, 5, 5, 1, 0, 1, 5, 1, 5, 5, 1, 1, 5, 1, 1, 1, 5, 1, 5, 1, 1, 1, 1, 1, 5, 1, 1, 5, 5, 5, 5, 0, 1, 1, 5, 1, 1, 1, 1, 5, 1, 1, 1, 1, 2]\n",
      "Total 261, correct 129, acc: 49.43 %\n",
      "class: 1 total: 63, correct: 30, accuracy: 0.47619047619047616\n",
      "class: 5 total: 198, correct: 99, accuracy: 0.5\n",
      "=======================Metrics :  None\n",
      "orig=>[5 5 5 5 0 0 0 5 1 5 5 0 5 5 5 0 0 1 5 5 0 5 5 5 0 5 1 5 5 1 1 1 1 1 5 5 0 0 5 1 5 5 0 0 5 5 5 0 0 5 5 5 5 0 5 5 1 5 5 5 0 5 5 0 1 0 1 0 5 0 5 0 0 5 0 0 1 1 1 1]\n",
      "pred=>[0, 0, 0, 5, 5, 5, 0, 1, 0, 5, 5, 0, 0, 0, 5, 5, 1, 0, 5, 5, 0, 0, 0, 5, 0, 1, 0, 5, 1, 1, 1, 1, 1, 5, 0, 5, 5, 0, 1, 0, 5, 5, 5, 0, 0, 0, 5, 5, 0, 0, 0, 0, 5, 0, 0, 1, 0, 5, 0, 5, 0, 0, 5, 1, 5, 1, 5, 5, 5, 2, 5, 5, 0, 5, 5, 1, 1, 1, 2, 1]\n",
      "Total 261, correct 125, acc: 47.89 %\n",
      "class: 0 total: 83, correct: 39, accuracy: 0.46987951807228917\n",
      "class: 1 total: 58, correct: 28, accuracy: 0.4827586206896552\n",
      "class: 5 total: 120, correct: 58, accuracy: 0.48333333333333334\n",
      "=======================Metrics :  None\n",
      "orig=>[5 5 5 5 5 5 5 5 5 5 5 5 5 5 5 5 5 5 5 5 5 5 5 5 5 5 5 5 5 5 5 5 5 5 5 5 5 5 5 5 5 5 5 5 5 5 5 5 5 5 5 5 5 5 5 5 5 5 5 5 5 5 5 5 5 5 5 5 5 5 5 5 5 5 5 5 5 5 5 5]\n",
      "pred=>[5, 5, 5, 5, 5, 5, 5, 1, 5, 5, 5, 5, 1, 5, 5, 5, 1, 1, 5, 5, 5, 5, 5, 5, 5, 0, 5, 1, 5, 5, 5, 5, 5, 5, 5, 5, 1, 5, 5, 0, 1, 5, 0, 5, 5, 0, 5, 1, 5, 5, 5, 5, 5, 5, 5, 1, 5, 5, 5, 1, 5, 5, 0, 5, 5, 5, 5, 5, 5, 5, 2, 2, 5, 2, 1, 0, 1, 1, 0, 5]\n",
      "Total 261, correct 162, acc: 62.07 %\n",
      "class: 5 total: 261, correct: 162, accuracy: 0.6206896551724138\n",
      "=======================Metrics :  None\n",
      "orig=>[3 3 3 3 3 3 1 1 1 1 1 1 1 3 3 3 3 3 3 1 1 1 1 1 3 3 3 3 3 3 1 1 1 1 1 1 5 1 1 5 3 3 3 3 3 1 1 1 1 1 1 1 1 1 1 1 1 3 3 3 3 3 3 3 3 3 1 1 1 1 1 1 1 5 1 1 1 1 1 1]\n",
      "pred=>[3, 3, 4, 3, 2, 2, 5, 1, 5, 5, 5, 2, 3, 3, 2, 2, 2, 2, 2, 1, 5, 5, 2, 3, 3, 3, 3, 2, 3, 1, 5, 1, 1, 5, 1, 1, 5, 5, 2, 3, 4, 3, 3, 5, 2, 5, 5, 5, 1, 5, 1, 5, 5, 1, 1, 5, 3, 3, 4, 3, 2, 3, 2, 3, 3, 5, 1, 5, 5, 1, 1, 5, 1, 5, 5, 1, 5, 5, 1, 5]\n",
      "Total 261, correct 142, acc: 54.41 %\n",
      "class: 1 total: 164, correct: 89, accuracy: 0.5426829268292683\n",
      "class: 2 total: 1, correct: 1, accuracy: 1.0\n",
      "class: 3 total: 84, correct: 42, accuracy: 0.5\n",
      "class: 5 total: 12, correct: 10, accuracy: 0.8333333333333334\n",
      "=======================Metrics :  None\n",
      "orig=>[3 3 3 3 3 3 3 1 1 1 1 1 3 3 3 3 3 3 3 3 1 1 1 3 3 3 3 3 3 3 1 1 1 1 1 1 1 1 1 3 3 3 3 3 1 3 1 1 1 1 1 1 1 1 1 1 1 3 3 3 3 3 3 3 3 3 1 1 1 1 1 1 1 1 1 1 1 1 1 1]\n",
      "pred=>[3, 3, 4, 3, 2, 2, 5, 1, 5, 5, 1, 2, 3, 3, 2, 3, 3, 2, 2, 1, 1, 5, 2, 3, 3, 3, 3, 2, 3, 1, 2, 1, 1, 5, 2, 2, 5, 5, 2, 3, 4, 3, 4, 2, 2, 1, 5, 5, 1, 5, 1, 5, 5, 1, 1, 5, 3, 3, 3, 3, 3, 3, 4, 3, 3, 5, 1, 5, 5, 1, 1, 5, 1, 5, 5, 1, 5, 5, 1, 5]\n",
      "Total 261, correct 142, acc: 54.41 %\n",
      "class: 1 total: 159, correct: 84, accuracy: 0.5283018867924528\n",
      "class: 3 total: 102, correct: 58, accuracy: 0.5686274509803921\n"
     ]
    }
   ],
   "source": [
    "ac=hm.SelfEval();"
   ]
  },
  {
   "cell_type": "code",
   "execution_count": 154,
   "metadata": {
    "collapsed": false
   },
   "outputs": [
    {
     "name": "stdout",
     "output_type": "stream",
     "text": [
      "Eigen Values/Vectors of\n",
      "[[ 0.      0.0459  0.1538  0.1111  0.      0.1228]\n",
      " [ 0.3182  0.4679  0.2308  0.      0.      0.4211]\n",
      " [ 0.0455  0.055   0.3077  0.1111  0.      0.0088]\n",
      " [ 0.      0.0092  0.2308  0.4444  0.      0.0088]\n",
      " [ 0.      0.      0.      0.1111  0.      0.    ]\n",
      " [ 0.6364  0.422   0.0769  0.2222  1.      0.4386]]\n",
      "[[ 1.  1.  1.  1.  1.  1.]]\n",
      "=EV:[ 1.      0.4845  0.2819 -0.1542 -0.0016  0.0481]\n",
      "[[ 0.1375 -0.066  -0.0709  0.5888 -0.6736  0.4502]\n",
      " [ 0.6811  0.7686  0.7679  0.2464  0.6598 -0.7877]\n",
      " [ 0.0812 -0.1382  0.2506 -0.0822 -0.0109  0.0943]\n",
      " [ 0.0562 -0.586  -0.3763  0.0391 -0.0036 -0.0454]\n",
      " [ 0.0062 -0.1344 -0.1483 -0.0282  0.249  -0.1049]\n",
      " [ 0.7123  0.1559 -0.423  -0.7639 -0.2208  0.3934]]\n",
      "\n",
      "index=0 Stat Disy:\n",
      "[[ 0.1375  0.6811  0.0812  0.0562  0.0062  0.7123]] \n",
      "StatPI:\n",
      "[[ 0.0821  0.4067  0.0485  0.0336  0.0037  0.4254]]\n",
      "[[ 0.0821]\n",
      " [ 0.4067]\n",
      " [ 0.0485]\n",
      " [ 0.0336]\n",
      " [ 0.0037]\n",
      " [ 0.4254]])\n"
     ]
    }
   ],
   "source": [
    "def approx(i,n, eps=0.000001):\n",
    "    ret = abs(n - i) <= eps\n",
    "    return ret;\n",
    "\n",
    "def StationaryDist(k, printOut=True):\n",
    "    k = np.matrix(k)\n",
    "    eigenvalues, eigenvectors = np.linalg.eig(k)\n",
    "    ev, et = eigenvalues, eigenvectors\n",
    "    colSumsK = k.sum(axis=0)\n",
    "\n",
    "    if(any([not approx(c,1) for c in colSumsK.flat])):\n",
    "        print(\"Columns sums !=1 - not a suitable Trans Matrix: taking Transpose\")\n",
    "        k = k.T\n",
    "        colSums1 = k.sum(axis=0)\n",
    "        if(any([not approx(c,1) for c in colSums1.flat])):\n",
    "            print(\"Columns sums !=1 - not a suitable Trans Matrix\")\n",
    "            return colSums\n",
    "    \n",
    "    eigenvalues, eigenvectors = np.linalg.eig(k)\n",
    "    ev, et = eigenvalues, eigenvectors\n",
    "    evl = np.argmax(ev)\n",
    "    evt = et[:,evl]\n",
    "    evr = evt/evt.sum(axis=0)\n",
    "    \n",
    "    stationatyDist = evt\n",
    "    stationaryPI = evr\n",
    "    \n",
    "    colSums = et.sum(axis=0)\n",
    "    test=k * evr\n",
    "\n",
    "    if (printOut):\n",
    "        print(\"Eigen Values/Vectors of\\n{}\\n{}\\n=EV:{}\\n{}\\n\".format( k, colSumsK, ev, et))\n",
    "        print(\"index={} Stat Disy:\\n{} \\nStatPI:\\n{}\\n{})\".format( evl, stationatyDist.T, stationaryPI.T, test) )\n",
    "    \n",
    "    return stationatyDist, stationaryPI\n",
    "\n",
    "#k=np.matrix([[0.5,.5,0], [0.25,0.5,0.25],[0,0.5,0.5]]).T\n",
    "k=hm.pS[(1,1,1)]\n",
    "d,v=StationaryDist(k);"
   ]
  },
  {
   "cell_type": "code",
   "execution_count": null,
   "metadata": {
    "collapsed": true
   },
   "outputs": [],
   "source": []
  },
  {
   "cell_type": "code",
   "execution_count": null,
   "metadata": {
    "collapsed": true
   },
   "outputs": [],
   "source": []
  }
 ],
 "metadata": {
  "anaconda-cloud": {},
  "kernelspec": {
   "display_name": "Python [default]",
   "language": "python",
   "name": "python3"
  },
  "language_info": {
   "codemirror_mode": {
    "name": "ipython",
    "version": 3
   },
   "file_extension": ".py",
   "mimetype": "text/x-python",
   "name": "python",
   "nbconvert_exporter": "python",
   "pygments_lexer": "ipython3",
   "version": "3.5.2"
  }
 },
 "nbformat": 4,
 "nbformat_minor": 2
}
