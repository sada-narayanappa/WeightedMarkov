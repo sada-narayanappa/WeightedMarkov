{
 "cells": [
  {
   "cell_type": "markdown",
   "metadata": {},
   "source": [
    "## References:\n",
    "\n",
    "1. Higher-order multivariate Markov chains and their applications; Wai-Ki Ching , Michael K.Ng , Eric S.Fungb, 2008\n",
    "\n",
    "=>Implementationa and usage example shown here\n",
    "\n",
    "2. A multivariate Markov chain model for categorical data sequences and its applications in demand predictions\n",
    "   Wai‐Ki Ching  Eric S. Fung  Michael K. Ng\n",
    "    \n",
    "\n",
    "3. Higher-Order Markov Chain Models for Categorical Data Sequences* Wai Ki Ching, Eric S. Fung, Michael K. Ng [Implemented here as WeightedMarkov]\n",
    "\n",
    "0. <a src=\"https://www.google.com/url?sa=t&rct=j&q=&esrc=s&source=web&cd=1&cad=rja&uact=8&ved=0ahUKEwjM66WC3JbXAhVil1QKHTj1CakQFggtMAA&url=http%3A%2F%2Fwww.ccsenet.org%2Fjournal%2Findex.php%2Fmas%2Farticle%2FviewFile%2F6040%2F4874_1_1_1&usg=AOvVaw0fZh5XmtYpF14lVZRfr6aZ\">  Application of Markov Chains to Analyze and Predict the Time Series </a>\n"
   ]
  },
  {
   "cell_type": "code",
   "execution_count": 1,
   "metadata": {
    "collapsed": false
   },
   "outputs": [],
   "source": [
    "import numpy as np;\n",
    "import pandas as pd;\n",
    "import importlib\n",
    "import numpy as np\n",
    "from collections import defaultdict\n",
    "from WeightedMarkov.NaiveMarkov import *\n",
    "from WeightedMarkov.WeightedHOMVMarkov import *\n"
   ]
  },
  {
   "cell_type": "code",
   "execution_count": 2,
   "metadata": {
    "collapsed": false,
    "scrolled": false
   },
   "outputs": [
    {
     "data": {
      "text/latex": [
       "$$\n",
       "        x^{(j)}_{r+1} = \\sum_{k=1}^{s}\\sum_{h=1}^{n} \\lambda^{(h)}_{jk} P^{(jk)}_h x^{(k)}_{r-h+1}, \n",
       "        j = 1,2,...s, n = order\n",
       "        $$"
      ],
      "text/plain": [
       "<IPython.core.display.Math object>"
      ]
     },
     "metadata": {},
     "output_type": "display_data"
    },
    {
     "data": {
      "text/latex": [
       "$$\n",
       "        \\begin{equation}\n",
       "        \\begin{aligned}\n",
       "        x^{(1)}_{r+1} &= 0.0948 P_1^{(1, 1)} X_{r}^{(1)} +0.031 P_2^{(1, 1)} X_{r-1}^{(1)} +0.8431 P_1^{(1, 2)} X_{r}^{(2)} +0.031 P_2^{(1, 2)} X_{r-1}^{(2)} \\\\x^{(2)}_{r+1} &= 0.2 P_1^{(2, 1)} X_{r}^{(1)} +0.2 P_2^{(2, 1)} X_{r-1}^{(1)} +0.6 P_1^{(2, 2)} X_{r}^{(2)} \\\\\n",
       "        \\end{aligned}\n",
       "        \\end{equation}\n",
       "        $$"
      ],
      "text/plain": [
       "<IPython.core.display.Math object>"
      ]
     },
     "metadata": {},
     "output_type": "display_data"
    },
    {
     "name": "stdout",
     "output_type": "stream",
     "text": [
      "X_(0) => 0.0948 0.0310 0.8431 0.0310 \n",
      "X_(1) => 0.2000 0.2000 0.6000 0.0000 \n"
     ]
    }
   ],
   "source": [
    "s1 = [2,1,3,3,4,3,2,1,3,3,2,1]\n",
    "s1 = [1,0,2,2,3,2,1,0,2,2,1,0]\n",
    "s2 = [2,4,4,4,4,2,3,3,1,4,3,3]\n",
    "s2 = [1,3,3,3,3,1,2,2,0,3,2,2]\n",
    "X=[s1,s2]\n",
    "order = 2\n",
    "n=2       # => order\n",
    "s=len(X)  # => Number of series\n",
    "hm = WeightedHOMVMarkov(X,4, order)\n",
    "f, p, x = hm.fit();\n",
    "#hm.Dump()\n",
    "c,A,b = hm.PrepareMatrices()\n",
    "#hm.DisplayCAb(0)\n",
    "#hm.DisplayCAb(1)\n",
    "#print (\"c=\", c, \"\\nA=\\n\", A, \"\\nb=\", b)\n",
    "sol = hm.Solve(False)\n",
    "hm.DumpSolution()\n",
    "for i,s in enumerate(hm.sol):\n",
    "    print(\"X_({}) => \".format(i), end='')\n",
    "    for f in np.array([_ for _ in sol[i]['x'].T][:-1]):\n",
    "        print(\"{0:.4f}\".format(f), end=' ' )\n",
    "    print()\n"
   ]
  },
  {
   "cell_type": "code",
   "execution_count": 3,
   "metadata": {
    "collapsed": false
   },
   "outputs": [
    {
     "ename": "TypeError",
     "evalue": "makeX() takes 2 positional arguments but 3 were given",
     "output_type": "error",
     "traceback": [
      "\u001b[0;31m---------------------------------------------------------------------------\u001b[0m",
      "\u001b[0;31mTypeError\u001b[0m                                 Traceback (most recent call last)",
      "\u001b[0;32m<ipython-input-3-28dcd650ab09>\u001b[0m in \u001b[0;36m<module>\u001b[0;34m()\u001b[0m\n\u001b[0;32m----> 1\u001b[0;31m \u001b[0mhm\u001b[0m\u001b[0;34m.\u001b[0m\u001b[0mSelfEval\u001b[0m\u001b[0;34m(\u001b[0m\u001b[0;34m)\u001b[0m\u001b[0;34m;\u001b[0m\u001b[0;34m\u001b[0m\u001b[0m\n\u001b[0m",
      "\u001b[0;32m/opt/SCHAS/Notebooks/WeightedMarkov/WeightedMarkov/WeightedHOMVMarkov.py\u001b[0m in \u001b[0;36mSelfEval\u001b[0;34m(self)\u001b[0m\n\u001b[1;32m    435\u001b[0m                 \u001b[0mXr\u001b[0m\u001b[0;34m[\u001b[0m\u001b[0mii\u001b[0m\u001b[0;34m]\u001b[0m \u001b[0;34m=\u001b[0m \u001b[0mlist\u001b[0m\u001b[0;34m(\u001b[0m\u001b[0mreversed\u001b[0m\u001b[0;34m(\u001b[0m\u001b[0mX\u001b[0m\u001b[0;34m[\u001b[0m\u001b[0mii\u001b[0m\u001b[0;34m]\u001b[0m\u001b[0;34m[\u001b[0m\u001b[0mi\u001b[0m\u001b[0;34m:\u001b[0m\u001b[0mi\u001b[0m\u001b[0;34m+\u001b[0m\u001b[0morder\u001b[0m\u001b[0;34m]\u001b[0m \u001b[0;34m)\u001b[0m\u001b[0;34m)\u001b[0m\u001b[0;34m\u001b[0m\u001b[0m\n\u001b[1;32m    436\u001b[0m \u001b[0;34m\u001b[0m\u001b[0m\n\u001b[0;32m--> 437\u001b[0;31m             \u001b[0mXr_1\u001b[0m\u001b[0;34m,\u001b[0m\u001b[0mpr_1\u001b[0m \u001b[0;34m=\u001b[0m \u001b[0mself\u001b[0m\u001b[0;34m.\u001b[0m\u001b[0mPredict\u001b[0m\u001b[0;34m(\u001b[0m\u001b[0mXr\u001b[0m\u001b[0;34m)\u001b[0m\u001b[0;34m\u001b[0m\u001b[0m\n\u001b[0m\u001b[1;32m    438\u001b[0m \u001b[0;34m\u001b[0m\u001b[0m\n\u001b[1;32m    439\u001b[0m             \u001b[0;32mif\u001b[0m \u001b[0;34m(\u001b[0m\u001b[0mi\u001b[0m\u001b[0;34m==\u001b[0m\u001b[0;36m0\u001b[0m\u001b[0;34m)\u001b[0m\u001b[0;34m:\u001b[0m\u001b[0;34m\u001b[0m\u001b[0m\n",
      "\u001b[0;32m/opt/SCHAS/Notebooks/WeightedMarkov/WeightedMarkov/WeightedHOMVMarkov.py\u001b[0m in \u001b[0;36mPredict\u001b[0;34m(self, Xr, randomized)\u001b[0m\n\u001b[1;32m    417\u001b[0m \u001b[0;34m\u001b[0m\u001b[0m\n\u001b[1;32m    418\u001b[0m                 \u001b[0;32mif\u001b[0m \u001b[0;34m(\u001b[0m\u001b[0mPXr\u001b[0m \u001b[0;32mis\u001b[0m \u001b[0;32mNone\u001b[0m\u001b[0;34m)\u001b[0m\u001b[0;34m:\u001b[0m\u001b[0;34m\u001b[0m\u001b[0m\n\u001b[0;32m--> 419\u001b[0;31m                     \u001b[0mPXr\u001b[0m \u001b[0;34m=\u001b[0m \u001b[0mlmbda\u001b[0m \u001b[0;34m*\u001b[0m \u001b[0mself\u001b[0m\u001b[0;34m.\u001b[0m\u001b[0mpS\u001b[0m\u001b[0;34m[\u001b[0m\u001b[0midx\u001b[0m\u001b[0;34m]\u001b[0m \u001b[0;34m*\u001b[0m \u001b[0mself\u001b[0m\u001b[0;34m.\u001b[0m\u001b[0mmakeX\u001b[0m\u001b[0;34m(\u001b[0m\u001b[0mXr\u001b[0m\u001b[0;34m[\u001b[0m\u001b[0mxi\u001b[0m\u001b[0;34m]\u001b[0m\u001b[0;34m[\u001b[0m\u001b[0mpi\u001b[0m\u001b[0;34m]\u001b[0m\u001b[0;34m,\u001b[0m \u001b[0mself\u001b[0m\u001b[0;34m.\u001b[0m\u001b[0mnStates\u001b[0m\u001b[0;34m)\u001b[0m\u001b[0;34m\u001b[0m\u001b[0m\n\u001b[0m\u001b[1;32m    420\u001b[0m                 \u001b[0;32melse\u001b[0m\u001b[0;34m:\u001b[0m\u001b[0;34m\u001b[0m\u001b[0m\n\u001b[1;32m    421\u001b[0m                     \u001b[0mPXr\u001b[0m \u001b[0;34m+=\u001b[0m \u001b[0mlmbda\u001b[0m \u001b[0;34m*\u001b[0m \u001b[0mself\u001b[0m\u001b[0;34m.\u001b[0m\u001b[0mpS\u001b[0m\u001b[0;34m[\u001b[0m\u001b[0midx\u001b[0m\u001b[0;34m]\u001b[0m \u001b[0;34m*\u001b[0m \u001b[0mself\u001b[0m\u001b[0;34m.\u001b[0m\u001b[0mmakeX\u001b[0m\u001b[0;34m(\u001b[0m\u001b[0mXr\u001b[0m\u001b[0;34m[\u001b[0m\u001b[0mxi\u001b[0m\u001b[0;34m]\u001b[0m\u001b[0;34m[\u001b[0m\u001b[0mpi\u001b[0m\u001b[0;34m]\u001b[0m\u001b[0;34m,\u001b[0m \u001b[0mself\u001b[0m\u001b[0;34m.\u001b[0m\u001b[0mnStates\u001b[0m\u001b[0;34m)\u001b[0m\u001b[0;34m\u001b[0m\u001b[0m\n",
      "\u001b[0;31mTypeError\u001b[0m: makeX() takes 2 positional arguments but 3 were given"
     ]
    }
   ],
   "source": [
    "hm.SelfEval();\n"
   ]
  },
  {
   "cell_type": "markdown",
   "metadata": {},
   "source": [
    "## Example  from Reference [1]"
   ]
  },
  {
   "cell_type": "code",
   "execution_count": null,
   "metadata": {
    "collapsed": false
   },
   "outputs": [],
   "source": [
    "ProductA=\" 6 6 6 6 2 6 2 6 2 2 6 2 6 6 2 6 2 4 4 4 5 6 6 1 2 2 6 6 6 2 6 2 6 6 2 6 2 2 6 2 1 2 2 6 6 6 2 1262662262226262222262266661226222262222332326666262662 6266266223433131216166166262622266162612162622226616622 62223444646166166661622266662662262622262226666322622222 26262226226626662223334166166161666616662122222236666626\"\n",
    "ProductB=\" 1 6 6 1 6 1 1 1 1 1 1 6 6 6 1 2 1 6 6 1 1 1 6 6 2 1 6 6 1 1 1 6 1 2 1 6 2 2 2 2 2 6 1 6 6 1 2 1666111661111611216161162626663661662223226661162662626 6136611122322622216161162111221611112611116161216166161 22223322266662116111616161611662116611262666126161111616 11661661616611662222222226666166616616611613335166666666\"\n",
    "ProductC=\" 6 6 6 6 6 6 6 2 6 6 6 6 6 6 6 2 6 6 6 6 2 6 6 6 2 2 6 6 6 6 6 6 6 1 6 2 6 6 6 6 6 6 6 6 2 6 6 1261661626666666266626616666666336321221661616666661666 1666666666662666666662266261266626626626162621266226262 26266622266266226121266226612216262211563616612261626616 26266616166222123616161616661166666166616116666666616616\"\n",
    "ProductD=\" 6 2 2 2 2 3 3 4 4 4 5 4 3 3 6 2 6 6 6 3 4 4 3 3 3 3 3 2 6 6 3 4 4 4 4 3 4 2 6 2 2 6 2 2 6 6 3 4544636662626622644543434462662262662662662626355544436 2662626226266264444446366262626266222222222333554533362 66226222262322363223444455446626262222222554455262662626 22334454443436262222222222234444544432226222626262222232\"\n",
    "ProductE=\" 6 2 2 2 2 3 3 4 4 4 5 4 3 3 6 2 6 6 2 3 4 4 3 4 4 3 3 2 2 6 3 4 4 4 4 3 4 2 3 2 2 6 3 3 6 6 3 4545332662626622644444454462662262662662662626344444446 2662626666262264444446336222626222222222222364555524662 66226222262322363223444455433626222632222554444362662626 22334454444436262226222222234444544432226662626262222222\"\n",
    "\n",
    "pA=[int(c) - 1 for c in ProductA if c != ' ']\n",
    "pB=[int(c) - 1 for c in ProductB if c != ' ']\n",
    "pC=[int(c) - 1 for c in ProductC if c != ' ']\n",
    "pD=[int(c) - 1 for c in ProductD if c != ' ']\n",
    "pE=[int(c) - 1 for c in ProductE if c != ' ']\n",
    "X=[pA,pB,pC,pD,pE]\n",
    "    \n",
    "order = 8\n",
    "n=6       # => number of States\n",
    "s=len(X)  # => Number of series\n",
    "\n",
    "hm = WeightedHOMVMarkov(X, n, order)\n",
    "f, p, x = hm.fit();\n",
    "#h.Dump()\n",
    "c,A,b = hm.PrepareMatrices()\n",
    "#hm.DisplayCAb(0)\n",
    "#hm.DisplayCAb(1)\n",
    "#print (\"c=\", c, \"\\nA=\\n\", A, \"\\nb=\", b)\n",
    "sol = hm.Solve(False)\n",
    "hm.DumpSolution();\n",
    "\n",
    "#for i,s in enumerate(hm.sol):\n",
    "#    print(\"X_({}) => \".format(i), end='')\n",
    "#    for f in np.array([_ for _ in sol[i]['x'].T][:-1]):\n",
    "#        print(\"{0:.4f}\".format(f), end=' ' )\n",
    "#    print()\n",
    "    "
   ]
  },
  {
   "cell_type": "code",
   "execution_count": null,
   "metadata": {
    "collapsed": false
   },
   "outputs": [],
   "source": [
    "hm.SelfEval()"
   ]
  },
  {
   "cell_type": "code",
   "execution_count": null,
   "metadata": {
    "collapsed": false
   },
   "outputs": [],
   "source": []
  },
  {
   "cell_type": "code",
   "execution_count": null,
   "metadata": {
    "collapsed": true
   },
   "outputs": [],
   "source": []
  }
 ],
 "metadata": {
  "anaconda-cloud": {},
  "kernelspec": {
   "display_name": "Python [default]",
   "language": "python",
   "name": "python3"
  },
  "language_info": {
   "codemirror_mode": {
    "name": "ipython",
    "version": 3
   },
   "file_extension": ".py",
   "mimetype": "text/x-python",
   "name": "python",
   "nbconvert_exporter": "python",
   "pygments_lexer": "ipython3",
   "version": "3.5.2"
  }
 },
 "nbformat": 4,
 "nbformat_minor": 2
}
