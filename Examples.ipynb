{
 "cells": [
  {
   "cell_type": "code",
   "execution_count": 17,
   "metadata": {
    "collapsed": false
   },
   "outputs": [],
   "source": [
    "import numpy as np;\n",
    "from collections import defaultdict\n",
    "\n",
    "import pandas as pd;\n",
    "import importlib\n",
    "import sys\n",
    "\n",
    "from WeightedMarkov.WeightedMarkov import *\n",
    "from WeightedMarkov.NaiveMarkov import *\n",
    "#Call delModules before reimporting to fresh imported classes\n",
    "def delModules(mod):\n",
    "    mods = []\n",
    "    for c,md in enumerate(sys.modules): \n",
    "        if (md == mod or md.startswith(mod+\".\") ):\n",
    "            #print(\"Delete: \" , md)\n",
    "            mods += [md]\n",
    "    for m in sorted(mods):\n",
    "        del sys.modules[m]\n",
    "\n",
    "delModules(\"WeightedMarkov\")\n",
    "from WeightedMarkov.NaiveMarkov import *\n",
    "from WeightedMarkov.WeightedMarkov import *\n"
   ]
  },
  {
   "cell_type": "code",
   "execution_count": 19,
   "metadata": {
    "collapsed": false
   },
   "outputs": [
    {
     "name": "stdout",
     "output_type": "stream",
     "text": [
      "==>Show the results are as expected when setup right\n"
     ]
    },
    {
     "data": {
      "text/latex": [
       "$$\\hat{F}^{0} =\\begin{bmatrix}\n",
       "1. & 3. & 3.\\\\\\\\6. & 1. & 1.\\\\\\\\1. & 3. & 0.\n",
       "\\end{bmatrix}\n",
       "\\hat{F}^{1} =\\begin{bmatrix}\n",
       "1. & 4. & 1.\\\\\\\\3. & 2. & 3.\\\\\\\\3. & 1. & 0.\n",
       "\\end{bmatrix}\n",
       "\\hat{P}^{0} =\\begin{bmatrix}\n",
       "1/8 & 3/7 & 3/4\\\\\\\\3/4 & 1/7 & 1/4\\\\\\\\1/8 & 3/7 & 0\n",
       "\\end{bmatrix}\n",
       "\\hat{P}^{1} =\\begin{bmatrix}\n",
       "1/7 & 4/7 & 1/4\\\\\\\\3/7 & 2/7 & 3/4\\\\\\\\3/7 & 1/7 & 0\n",
       "\\end{bmatrix}\n",
       "\\hat{x}_1 =\\begin{bmatrix}\n",
       "2/5\\\\\\\\2/5\\\\\\\\1/5\n",
       "\\end{bmatrix}\n",
       "$$"
      ],
      "text/plain": [
       "<IPython.core.display.Math object>"
      ]
     },
     "metadata": {},
     "output_type": "display_data"
    }
   ],
   "source": [
    "s1=[int(_) for _ in '0 0 1 1 0 2 1 0 1 2 0 1 2 0 1 2 0 1 0 1'.split()]\n",
    "numClasses = len(np.unique(s1))\n",
    "X=[s1]\n",
    "order=2\n",
    "m= numClasses\n",
    "hm= WeightedMarkov(X,m, order)\n",
    "fS,pS, xHats = hm.fit(X)\n",
    "\n",
    "print(\"==>Show the results are as expected when setup right\")\n",
    "c,A,b = hm.PrepareMatrices()\n",
    "sol = hm.Solve(False)\n",
    "\n",
    "hm.Dump()"
   ]
  },
  {
   "cell_type": "markdown",
   "metadata": {},
   "source": [
    "## References:\n",
    "\n",
    "1. <a src=\"https://www.google.com/url?sa=t&rct=j&q=&esrc=s&source=web&cd=1&cad=rja&uact=8&ved=0ahUKEwjM66WC3JbXAhVil1QKHTj1CakQFggtMAA&url=http%3A%2F%2Fwww.ccsenet.org%2Fjournal%2Findex.php%2Fmas%2Farticle%2FviewFile%2F6040%2F4874_1_1_1&usg=AOvVaw0fZh5XmtYpF14lVZRfr6aZ\">  Application of Markov Chains to Analyze and Predict the Time Series </a>\n",
    "\n",
    "2. A multivariate Markov chain model for categorical data sequences and its applications in demand predictions\n",
    "   Wai‐Ki Ching  Eric S. Fung  Michael K. Ng\n",
    "    \n",
    "3. Higher-order multivariate Markov chains and their applications; Wai-Ki Ching , Michael K.Ng , Eric S.Fungb\n",
    "\n",
    "4. Higher-Order Markov Chain Models for Categorical Data Sequences* Wai Ki Ching, Eric S. Fung, Michael K. Ng [Implemented here as WeightedMarkov]\n"
   ]
  },
  {
   "cell_type": "code",
   "execution_count": 20,
   "metadata": {
    "collapsed": false
   },
   "outputs": [
    {
     "name": "stdout",
     "output_type": "stream",
     "text": [
      "\n",
      "****************** TESTING/USAGE oF NAIE MARKOV CHAIN ****************\n",
      "*\n",
      "\n",
      "# Try the Naive Markov Chain Approach ............For Paper Example\n",
      "=======================Metrics :  For MC order = 1\n",
      "orig=>[0, 0, 1, 1, 0, 2, 1, 0, 1, 2, 0, 1, 2, 0, 1, 2, 0, 1, 0, 1]\n",
      "pred=>[0, 1, 1, 1, 1, 1, 1, 1, 2, 1, 1, 0, 1, 1, 2, 1, 1, 1, 1, 1, 1]\n",
      "Total 20, correct 6, acc: 0.30\n",
      "class:0 total:8, correct:1, accuracy:0.125\n",
      "class:1 total:8, correct:5, accuracy:0.625\n",
      "class:2 total:4, correct:0, accuracy:0.0\n",
      "=======================Metrics :  For MC: with seeds taken from original fit tuples\n",
      "orig=>[0, 0, 1, 1, 0, 2, 1, 0, 1, 2, 0, 1, 2, 0, 1, 2, 0, 1, 0, 1]\n",
      "pred=>[0, 2, 1, 2, 0, 1, 0, 0, 1, 0, 1, 1, 0, 0, 2, 2, 0, 1, 2, 1]\n",
      "Total 20, correct 11, acc: 0.55\n",
      "class:0 total:8, correct:5, accuracy:0.625\n",
      "class:1 total:8, correct:5, accuracy:0.625\n",
      "class:2 total:4, correct:1, accuracy:0.25\n",
      "=======================Metrics :  For MC order = 3\n",
      "orig=>[0, 0, 1, 1, 0, 2, 1, 0, 1, 2, 0, 1, 2, 0, 1, 2, 0, 1, 0, 1]\n",
      "pred=>[1, 0, 0, 0, 0, 0, 0, 0, 0, 0, 0, 0, 0, 0, 0]\n",
      "Total 15, correct 5, acc: 0.33\n",
      "class:0 total:6, correct:5, accuracy:0.8333333333333334\n",
      "class:1 total:6, correct:0, accuracy:0.0\n",
      "class:2 total:3, correct:0, accuracy:0.0\n",
      "=======================Metrics :  For MC: with seeds taken from original fitted tuples\n",
      "orig=>[0, 0, 1, 1, 0, 2, 1, 0, 1, 2, 0, 1, 2, 0, 1, 2, 0, 1, 0, 1]\n",
      "pred=>[0, 2, 2, 2, 1, 0, 0, 0, 1, 2, 0, 1, 2, 0, 1, 0, 0, 0, 1, 1]\n",
      "Total 20, correct 11, acc: 0.55\n",
      "class:0 total:8, correct:5, accuracy:0.625\n",
      "class:1 total:8, correct:4, accuracy:0.5\n",
      "class:2 total:4, correct:2, accuracy:0.5\n"
     ]
    }
   ],
   "source": [
    "print ('''\n",
    "****************** TESTING/USAGE oF NAIE MARKOV CHAIN ****************\n",
    "*\n",
    "''')\n",
    "\n",
    "s1=[int(_) for _ in '0 0 1 1 0 2 1 0 1 2 0 1 2 0 1 2 0 1 0 1'.split()]\n",
    "numClasses = len(np.unique(s1))\n",
    "print(\"# Try the Naive Markov Chain Approach ............For Paper Example\")\n",
    "\n",
    "order = 1\n",
    "m=NaiveMarkov(' ', order)\n",
    "m.fit(s1)\n",
    "start = tuple([s1[i] for i in range(order)])\n",
    "r = m.Predict(start )\n",
    "NaiveMarkov.Score(s1, r, True, msg=\"For MC order = {}\".format(order))\n",
    "r = m.PredictFromList(s1 )\n",
    "NaiveMarkov.Score(s1, r, msg=\"For MC: with seeds taken from original fit tuples\");\n",
    "\n",
    "\n",
    "order=3\n",
    "m=NaiveMarkov(' ', order)\n",
    "m.fit(s1[:-6])\n",
    "start = tuple([s1[i] for i in range(order)])\n",
    "r = m.Predict(start )\n",
    "NaiveMarkov.Score(s1, r, True, msg=\"For MC order = {}\".format(order))\n",
    "\n",
    "r = m.PredictFromList(s1 )\n",
    "NaiveMarkov.Score(s1, r, msg=\"For MC: with seeds taken from original fitted tuples\");\n",
    "#Metrics(s1, r)\n",
    "#F,p = NaiveMarkov.Freq(s1)\n"
   ]
  },
  {
   "cell_type": "code",
   "execution_count": 21,
   "metadata": {
    "collapsed": false
   },
   "outputs": [
    {
     "name": "stdout",
     "output_type": "stream",
     "text": [
      "# Lets try the Weighted  Markov Chain Approach ............\n",
      "Lets make sure the numbers are as given in the paper\n",
      "==>Show if we remove non negative constraints - the results are as expected\n",
      "LP Solutions non -ve constraint...\n",
      "\n",
      " [ 1.8    -0.8     0.0157] 0.99999999995 solution= [ 0.      0.      1.0157]\n",
      "==>Show the results are as expected when setup right\n"
     ]
    },
    {
     "data": {
      "text/latex": [
       "$$\\hat{F}^{0} =\\begin{bmatrix}\n",
       "1. & 3. & 3.\\\\\\\\6. & 1. & 1.\\\\\\\\1. & 3. & 0.\n",
       "\\end{bmatrix}\n",
       "\\hat{F}^{1} =\\begin{bmatrix}\n",
       "1. & 4. & 1.\\\\\\\\3. & 2. & 3.\\\\\\\\3. & 1. & 0.\n",
       "\\end{bmatrix}\n",
       "\\hat{P}^{0} =\\begin{bmatrix}\n",
       "1/8 & 3/7 & 3/4\\\\\\\\3/4 & 1/7 & 1/4\\\\\\\\1/8 & 3/7 & 0\n",
       "\\end{bmatrix}\n",
       "\\hat{P}^{1} =\\begin{bmatrix}\n",
       "1/7 & 4/7 & 1/4\\\\\\\\3/7 & 2/7 & 3/4\\\\\\\\3/7 & 1/7 & 0\n",
       "\\end{bmatrix}\n",
       "\\hat{x}_1 =\\begin{bmatrix}\n",
       "2/5\\\\\\\\2/5\\\\\\\\1/5\n",
       "\\end{bmatrix}\n",
       "$$"
      ],
      "text/plain": [
       "<IPython.core.display.Math object>"
      ]
     },
     "metadata": {},
     "output_type": "display_data"
    },
    {
     "name": "stdout",
     "output_type": "stream",
     "text": [
      "LP Setup ...\n"
     ]
    },
    {
     "data": {
      "text/latex": [
       "$$c =\\begin{bmatrix}\n",
       "0 & 0 & 1\n",
       "\\end{bmatrix}\n",
       "A =\\begin{bmatrix}\n",
       "1 & 1 & 0\\\\\\\\-1 & -1 & 0\\\\\\\\-1 & 0 & 0\\\\\\\\0 & -1 & 0\\\\\\\\-13/35 & -47/140 & -1\\\\\\\\-57/140 & -61/140 & -1\\\\\\\\-31/140 & -8/35 & -1\\\\\\\\13/35 & 47/140 & -1\\\\\\\\57/140 & 61/140 & -1\\\\\\\\31/140 & 8/35 & -1\\\\\\\\0 & 0 & -1\n",
       "\\end{bmatrix}\n",
       "b =\\begin{bmatrix}\n",
       "1\\\\\\\\-1\\\\\\\\0\\\\\\\\0\\\\\\\\-2/5\\\\\\\\-2/5\\\\\\\\-1/5\\\\\\\\2/5\\\\\\\\2/5\\\\\\\\1/5\\\\\\\\0\n",
       "\\end{bmatrix}\n",
       "description =\\begin{bmatrix}\n",
       "\\lambda_0+\\lambda_1 & <= & +1\\\\\\\\-\\lambda_0-\\lambda_1 & <= & -1\\\\\\\\\\lambda_0 & >= & 0\\\\\\\\\\lambda_1 & >= & 0\\\\\\\\-\\\\\\\\-\\\\\\\\-\\\\\\\\+\\\\\\\\+\\\\\\\\+\\\\\\\\w & >= & 0\n",
       "\\end{bmatrix}\n",
       "$$"
      ],
      "text/plain": [
       "<IPython.core.display.Math object>"
      ]
     },
     "metadata": {},
     "output_type": "display_data"
    },
    {
     "name": "stdout",
     "output_type": "stream",
     "text": [
      "LP Solved Solutions ....\n",
      " [  1.0000e+00   2.4360e-08   2.8571e-02] 1.00000000214 solution= [ 0.      0.      1.0286]\n"
     ]
    }
   ],
   "source": [
    "# Paper Example - lets prove the examples in paper works correctly!\n",
    "\n",
    "s1=[int(_) for _ in '0 0 1 1 0 2 1 0 1 2 0 1 2 0 1 2 0 1 0 1'.split()]\n",
    "numClasses = len(np.unique(s1))\n",
    "print( '''# Lets try the Weighted  Markov Chain Approach ............\n",
    "Lets make sure the numbers are as given in the paper''')\n",
    "\n",
    "X=[s1]\n",
    "\n",
    "order=2\n",
    "m= numClasses\n",
    "hm= WeightedMarkov(X,m, order)\n",
    "fS,pS, xHats = hm.fit(X)\n",
    "\n",
    "print(\"==>Show if we remove non negative constraints - the results are as expected\")\n",
    "c,A,b = hm.PrepareMatricesNN()\n",
    "sol = hm.Solve(False)\n",
    "params = np.array([_ for _ in sol['x'].T])\n",
    "soltn = sum(np.array(c) * sol['x'])\n",
    "print(\"LP Solutions non -ve constraint...\\n\\n\", params, sum(params[0:2]), \"solution=\", soltn)\n",
    "\n",
    "print(\"==>Show the results are as expected when setup right\")\n",
    "c,A,b = hm.PrepareMatrices()\n",
    "sol = hm.Solve(False)\n",
    "\n",
    "hm.Dump()\n",
    "print(\"LP Setup ...\")\n",
    "hm.DisplayCAb()\n",
    "soltn = sum(np.array(c) * sol['x'])\n",
    "params = np.array([_ for _ in sol['x'].T])\n",
    "print(\"LP Solved Solutions ....\\n\", params, sum(params[0:2]), \"solution=\", soltn)\n",
    "\n"
   ]
  },
  {
   "cell_type": "code",
   "execution_count": 22,
   "metadata": {
    "collapsed": false
   },
   "outputs": [
    {
     "name": "stdout",
     "output_type": "stream",
     "text": [
      "(0, 0) 1 [[1, 0, 0], [1, 0, 0]] [[ 0.125  0.75   0.125]] 0.125000000702 0.749999993773 0.125000007662\n",
      "(0, 1) 1 [[1, 0, 0], [0, 1, 0]] [[ 0.125  0.75   0.125]] 0.125000011142 0.749999990293 0.125000000702\n",
      "(0, 2) 1 [[1, 0, 0], [0, 0, 1]] [[ 0.125  0.75   0.125]] 0.125000003312 0.750000001603 0.124999997222\n",
      "(1, 0) 2 [[0, 1, 0], [1, 0, 0]] [[ 0.4286  0.1429  0.4286]] 0.428571422527 0.142857150122 0.428571429487\n",
      "(1, 1) 0 [[0, 1, 0], [0, 1, 0]] [[ 0.4286  0.1429  0.4286]] 0.428571432967 0.142857146642 0.428571422527\n",
      "(1, 2) 0 [[0, 1, 0], [0, 0, 1]] [[ 0.4286  0.1429  0.4286]] 0.428571425137 0.142857157952 0.428571419047\n",
      "(2, 0) 0 [[0, 0, 1], [1, 0, 0]] [[  7.5000e-01   2.5000e-01   1.0440e-08]] 0.749999986813 0.250000004884 1.04398746163e-08\n",
      "(2, 1) 0 [[0, 0, 1], [0, 1, 0]] [[  7.5000e-01   2.5000e-01   3.4800e-09]] 0.749999997253 0.250000001404 3.47995820543e-09\n",
      "(2, 2) 0 [[0, 0, 1], [0, 0, 1]] [[ 0.75  0.25  0.  ]] 0.749999989423 0.250000012714 0.0\n"
     ]
    }
   ],
   "source": [
    "# This is to show the rules if Xt=1, Xt+1 = 2; etc \n",
    "#\n",
    "#\n",
    "from copy import deepcopy\n",
    "\n",
    "# You can adjust for floating point/round off errors by uncommenting following two lines\n",
    "#hm.p[0]=1\n",
    "#hm.p[1]=0\n",
    "\n",
    "m= len(unique(s1))\n",
    "XX=[0 for _ in range(m)]\n",
    "XC=[XX.copy() for _ in range(order)]\n",
    "\n",
    "for j in it.product(range(m), repeat=order):\n",
    "    Xt = deepcopy(XC); #.copy()\n",
    "    for i,c in enumerate(j): \n",
    "        Xt[i][c]= 1\n",
    "\n",
    "    r,p=hm.Predict(Xt)\n",
    "    \n",
    "    print(j, p, Xt, r.T, r.flat[0], r.flat[1], r.flat[2])\n"
   ]
  },
  {
   "cell_type": "code",
   "execution_count": 23,
   "metadata": {
    "collapsed": false
   },
   "outputs": [
    {
     "name": "stdout",
     "output_type": "stream",
     "text": [
      "=> [0, 0, 1, 1, 0, 2, 1, 0, 1, 2, 0, 1, 2, 0, 1, 2, 0, 1, 0, 1]\n",
      "[0, 0] 1=>1 0 [[1, 0, 0], [1, 0, 0]] [[ 0.125  0.75   0.125]]\n",
      "[1, 0] 1=>2 1 [[0, 1, 0], [1, 0, 0]] [[ 0.4286  0.1429  0.4286]]\n",
      "[1, 1] 0=>0 2 [[0, 1, 0], [0, 1, 0]] [[ 0.4286  0.1429  0.4286]]\n",
      "[0, 1] 2=>1 3 [[1, 0, 0], [0, 1, 0]] [[ 0.125  0.75   0.125]]\n",
      "[2, 0] 1=>0 4 [[0, 0, 1], [1, 0, 0]] [[  7.5000e-01   2.5000e-01   1.0440e-08]]\n",
      "[1, 2] 0=>0 5 [[0, 1, 0], [0, 0, 1]] [[ 0.4286  0.1429  0.4286]]\n",
      "[0, 1] 1=>1 6 [[1, 0, 0], [0, 1, 0]] [[ 0.125  0.75   0.125]]\n",
      "[1, 0] 2=>2 7 [[0, 1, 0], [1, 0, 0]] [[ 0.4286  0.1429  0.4286]]\n",
      "[2, 1] 0=>0 8 [[0, 0, 1], [0, 1, 0]] [[  7.5000e-01   2.5000e-01   3.4800e-09]]\n",
      "[0, 2] 1=>1 9 [[1, 0, 0], [0, 0, 1]] [[ 0.125  0.75   0.125]]\n",
      "[1, 0] 2=>2 10 [[0, 1, 0], [1, 0, 0]] [[ 0.4286  0.1429  0.4286]]\n",
      "[2, 1] 0=>0 11 [[0, 0, 1], [0, 1, 0]] [[  7.5000e-01   2.5000e-01   3.4800e-09]]\n",
      "[0, 2] 1=>1 12 [[1, 0, 0], [0, 0, 1]] [[ 0.125  0.75   0.125]]\n",
      "[1, 0] 2=>2 13 [[0, 1, 0], [1, 0, 0]] [[ 0.4286  0.1429  0.4286]]\n",
      "[2, 1] 0=>0 14 [[0, 0, 1], [0, 1, 0]] [[  7.5000e-01   2.5000e-01   3.4800e-09]]\n",
      "[0, 2] 1=>1 15 [[1, 0, 0], [0, 0, 1]] [[ 0.125  0.75   0.125]]\n",
      "[1, 0] 0=>2 16 [[0, 1, 0], [1, 0, 0]] [[ 0.4286  0.1429  0.4286]]\n",
      "[0, 1] 1=>1 17 [[1, 0, 0], [0, 1, 0]] [[ 0.125  0.75   0.125]]\n",
      "=======================Metrics :  None\n",
      "orig=>[1, 1, 0, 2, 1, 0, 1, 2, 0, 1, 2, 0, 1, 2, 0, 1, 0, 1]\n",
      "pred=>[1, 2, 0, 1, 0, 0, 1, 2, 0, 1, 2, 0, 1, 2, 0, 1, 2, 1]\n",
      "Total 18, correct 14, acc: 0.78\n",
      "class:0 total:6, correct:5, accuracy:0.8333333333333334\n",
      "class:1 total:8, correct:6, accuracy:0.75\n",
      "class:2 total:4, correct:3, accuracy:0.75\n"
     ]
    },
    {
     "data": {
      "text/plain": [
       "(18, 14, defaultdict(int, {0: 6, 1: 8, 2: 4}))"
      ]
     },
     "execution_count": 23,
     "metadata": {},
     "output_type": "execute_result"
    }
   ],
   "source": [
    "#This section is to actually do the prediction on the given set: 12/19 Proof\n",
    "pdt = [s1[order-1]]\n",
    "print(\"=>\", s1)\n",
    "\n",
    "for j in range(len(s1) - order):\n",
    "    Xt = deepcopy(XC); #.copy()\n",
    "#    for i in range(order):\n",
    "#        Xt[i][s1[j+i]]=1\n",
    "    prs=[0 for _ in range(order)]\n",
    "    for i,c in enumerate(reversed(s1[j:j+order]) ):\n",
    "        prs[i] = c;\n",
    "        Xt[i][c]=1\n",
    "        \n",
    "    r, predicted = hm.Predict(Xt)\n",
    "\n",
    "    original  = s1[j+order]\n",
    "    pdt.append(predicted)\n",
    "    \n",
    "    print(\"{} {}=>{} {} {} {}\".format(prs, original, predicted,j, Xt, r.T) )\n",
    "    #if( j==2): break\n",
    "    \n",
    "NaiveMarkov.Score(s1[order:], pdt[1:])"
   ]
  },
  {
   "cell_type": "code",
   "execution_count": 25,
   "metadata": {
    "collapsed": false
   },
   "outputs": [
    {
     "name": "stdout",
     "output_type": "stream",
     "text": [
      "[[ 0.125   0.4286  0.75  ]\n",
      " [ 0.75    0.1429  0.25  ]\n",
      " [ 0.125   0.4286  0.    ]] [[ 0.4]\n",
      " [ 0.4]\n",
      " [ 0.2]] [[ 0.3714]\n",
      " [ 0.4071]\n",
      " [ 0.2214]]\n",
      "[[ 0.1429  0.5714  0.25  ]\n",
      " [ 0.4286  0.2857  0.75  ]\n",
      " [ 0.4286  0.1429  0.    ]] [[ 0.4]\n",
      " [ 0.4]\n",
      " [ 0.2]] [[ 0.3357]\n",
      " [ 0.4357]\n",
      " [ 0.2286]]\n"
     ]
    },
    {
     "data": {
      "text/plain": [
       "array([[ 0.3714,  0.3357,  1.    ],\n",
       "       [ 0.4071,  0.4357,  1.    ],\n",
       "       [ 0.2214,  0.2286,  1.    ]])"
      ]
     },
     "execution_count": 25,
     "metadata": {},
     "output_type": "execute_result"
    }
   ],
   "source": [
    "import numpy as np;\n",
    "\n",
    "j=np.zeros((3*(2+1)))\n",
    "j=j.reshape(3,2+1)\n",
    "j[:,-1]=1\n",
    "for k in range(2):        \n",
    "    pd1 = hm.pS.get(k)\n",
    "    xh1 = hm.xHats[0]\n",
    "    bb1 = pd1 * xh1\n",
    "    j[:,k] = bb1.flatten()\n",
    "    print(pd1, xh1, bb1)\n",
    "    \n",
    "j"
   ]
  },
  {
   "cell_type": "code",
   "execution_count": null,
   "metadata": {
    "collapsed": true
   },
   "outputs": [],
   "source": []
  }
 ],
 "metadata": {
  "anaconda-cloud": {},
  "kernelspec": {
   "display_name": "Python [default]",
   "language": "python",
   "name": "python3"
  },
  "language_info": {
   "codemirror_mode": {
    "name": "ipython",
    "version": 3
   },
   "file_extension": ".py",
   "mimetype": "text/x-python",
   "name": "python",
   "nbconvert_exporter": "python",
   "pygments_lexer": "ipython3",
   "version": "3.5.2"
  }
 },
 "nbformat": 4,
 "nbformat_minor": 2
}
