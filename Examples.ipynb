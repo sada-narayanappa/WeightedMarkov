{
 "cells": [
  {
   "cell_type": "code",
   "execution_count": 1,
   "metadata": {
    "collapsed": false
   },
   "outputs": [],
   "source": [
    "import numpy as np;\n",
    "from collections import defaultdict\n",
    "from WeightedMarkov.NaiveMarkov import *"
   ]
  },
  {
   "cell_type": "code",
   "execution_count": 11,
   "metadata": {
    "collapsed": false
   },
   "outputs": [
    {
     "name": "stdout",
     "output_type": "stream",
     "text": [
      "\n",
      "****************** TESTING/USAGE oF NAIE MARKOV CHAIN ****************\n",
      "*\n",
      "\n",
      "# Try the Naive Markov Chain Approach ............For Paper Example\n",
      "=======================Metrics :  For MC order = 1\n",
      "orig=>[0, 0, 1, 1, 0, 2, 1, 0, 1, 2, 0, 1, 2, 0, 1, 2, 0, 1, 0, 1]\n",
      "pred=>[0, 1, 1, 1, 1, 0, 1, 2, 1, 1, 1, 1, 1, 2, 1, 1, 2, 1, 1, 1, 1]\n",
      "Total 20, correct 9, acc: 0.45\n",
      "class: 0 total: 8, correct: 1, acc: 0.125\n",
      "class: 1 total: 8, correct: 8, acc: 1.0\n",
      "class: 2 total: 4, correct: 0, acc: 0.0\n",
      "=======================Metrics :  For MC: with seeds taken from original fit tuples\n",
      "orig=>[0, 0, 1, 1, 0, 2, 1, 0, 1, 2, 0, 1, 2, 0, 1, 2, 0, 1, 0, 1]\n",
      "pred=>[0, 2, 2, 2, 2, 1, 0, 1, 1, 2, 0, 2, 0, 1, 1, 2, 0, 1, 2, 1]\n",
      "Total 20, correct 9, acc: 0.45\n",
      "class: 0 total: 8, correct: 3, acc: 0.375\n",
      "class: 1 total: 8, correct: 4, acc: 0.5\n",
      "class: 2 total: 4, correct: 2, acc: 0.5\n"
     ]
    },
    {
     "ename": "TypeError",
     "evalue": "object of type 'int' has no len()",
     "output_type": "error",
     "traceback": [
      "\u001b[0;31m---------------------------------------------------------------------------\u001b[0m",
      "\u001b[0;31mTypeError\u001b[0m                                 Traceback (most recent call last)",
      "\u001b[0;32m<ipython-input-11-d44c10299911>\u001b[0m in \u001b[0;36m<module>\u001b[0;34m()\u001b[0m\n\u001b[1;32m     20\u001b[0m \u001b[0morder\u001b[0m\u001b[0;34m=\u001b[0m\u001b[0;36m3\u001b[0m\u001b[0;34m\u001b[0m\u001b[0m\n\u001b[1;32m     21\u001b[0m \u001b[0mm\u001b[0m\u001b[0;34m=\u001b[0m\u001b[0mNaiveMarkov\u001b[0m\u001b[0;34m(\u001b[0m\u001b[0;34m' '\u001b[0m\u001b[0;34m,\u001b[0m \u001b[0morder\u001b[0m\u001b[0;34m)\u001b[0m\u001b[0;34m\u001b[0m\u001b[0m\n\u001b[0;32m---> 22\u001b[0;31m \u001b[0mm\u001b[0m\u001b[0;34m.\u001b[0m\u001b[0mfit\u001b[0m\u001b[0;34m(\u001b[0m\u001b[0ms1\u001b[0m\u001b[0;34m[\u001b[0m\u001b[0;34m-\u001b[0m\u001b[0;36m6\u001b[0m\u001b[0;34m]\u001b[0m\u001b[0;34m)\u001b[0m\u001b[0;34m\u001b[0m\u001b[0m\n\u001b[0m\u001b[1;32m     23\u001b[0m \u001b[0mstart\u001b[0m \u001b[0;34m=\u001b[0m \u001b[0mtuple\u001b[0m\u001b[0;34m(\u001b[0m\u001b[0;34m[\u001b[0m\u001b[0ms1\u001b[0m\u001b[0;34m[\u001b[0m\u001b[0mi\u001b[0m\u001b[0;34m]\u001b[0m \u001b[0;32mfor\u001b[0m \u001b[0mi\u001b[0m \u001b[0;32min\u001b[0m \u001b[0mrange\u001b[0m\u001b[0;34m(\u001b[0m\u001b[0morder\u001b[0m\u001b[0;34m)\u001b[0m\u001b[0;34m]\u001b[0m\u001b[0;34m)\u001b[0m\u001b[0;34m\u001b[0m\u001b[0m\n\u001b[1;32m     24\u001b[0m \u001b[0mr\u001b[0m \u001b[0;34m=\u001b[0m \u001b[0mm\u001b[0m\u001b[0;34m.\u001b[0m\u001b[0mPredict\u001b[0m\u001b[0;34m(\u001b[0m\u001b[0mstart\u001b[0m \u001b[0;34m)\u001b[0m\u001b[0;34m\u001b[0m\u001b[0m\n",
      "\u001b[0;32m/opt/SCHAS/Notebooks/WeightedMarkov/WeightedMarkov/NaiveMarkov.py\u001b[0m in \u001b[0;36mfit\u001b[0;34m(self, sample)\u001b[0m\n\u001b[1;32m     51\u001b[0m         \u001b[0mself\u001b[0m\u001b[0;34m.\u001b[0m\u001b[0mtokens\u001b[0m \u001b[0;34m=\u001b[0m \u001b[0mtokens\u001b[0m\u001b[0;34m;\u001b[0m\u001b[0;34m\u001b[0m\u001b[0m\n\u001b[1;32m     52\u001b[0m \u001b[0;34m\u001b[0m\u001b[0m\n\u001b[0;32m---> 53\u001b[0;31m         \u001b[0mself\u001b[0m\u001b[0;34m.\u001b[0m\u001b[0mmax\u001b[0m \u001b[0;34m=\u001b[0m \u001b[0mlen\u001b[0m\u001b[0;34m(\u001b[0m\u001b[0mtokens\u001b[0m\u001b[0;34m)\u001b[0m\u001b[0;34m\u001b[0m\u001b[0m\n\u001b[0m\u001b[1;32m     54\u001b[0m         \u001b[0;32mfor\u001b[0m \u001b[0mt\u001b[0m \u001b[0;32min\u001b[0m \u001b[0mtokens\u001b[0m\u001b[0;34m:\u001b[0m\u001b[0;34m\u001b[0m\u001b[0m\n\u001b[1;32m     55\u001b[0m             \u001b[0;32mif\u001b[0m \u001b[0;32mnot\u001b[0m \u001b[0mprev\u001b[0m \u001b[0;32min\u001b[0m \u001b[0mself\u001b[0m\u001b[0;34m.\u001b[0m\u001b[0mstates\u001b[0m\u001b[0;34m:\u001b[0m\u001b[0;34m\u001b[0m\u001b[0m\n",
      "\u001b[0;31mTypeError\u001b[0m: object of type 'int' has no len()"
     ]
    }
   ],
   "source": [
    "print ('''\n",
    "****************** TESTING/USAGE oF NAIE MARKOV CHAIN ****************\n",
    "*\n",
    "''')\n",
    "\n",
    "s1=[int(_) for _ in '0 0 1 1 0 2 1 0 1 2 0 1 2 0 1 2 0 1 0 1'.split()]\n",
    "numClasses = len(np.unique(s1))\n",
    "print(\"# Try the Naive Markov Chain Approach ............For Paper Example\")\n",
    "\n",
    "order = 1\n",
    "m=NaiveMarkov(' ', order)\n",
    "m.fit(s1)\n",
    "start = tuple([s1[i] for i in range(order)])\n",
    "r = m.Predict(start )\n",
    "NaiveMarkov.Score(s1, r, True, msg=\"For MC order = {}\".format(order))\n",
    "r = m.PredictO(s1 )\n",
    "NaiveMarkov.Score(s1, r, msg=\"For MC: with seeds taken from original fit tuples\");\n",
    "\n",
    "\n",
    "order=3\n",
    "m=NaiveMarkov(' ', order)\n",
    "m.fit(s1[:-6])\n",
    "start = tuple([s1[i] for i in range(order)])\n",
    "r = m.Predict(start )\n",
    "NaiveMarkov.Score(s1, r, True, msg=\"For MC order = {}\".format(order))\n",
    "\n",
    "r = m.PredictO(s1 )\n",
    "NaiveMarkov.Score(s1, r, msg=\"For MC: with seeds taken from original fitted tuples\");\n",
    "#Metrics(s1, r)\n",
    "#F,p = NaiveMarkov.Freq(s1)\n"
   ]
  },
  {
   "cell_type": "code",
   "execution_count": null,
   "metadata": {
    "collapsed": true
   },
   "outputs": [],
   "source": []
  }
 ],
 "metadata": {
  "anaconda-cloud": {},
  "kernelspec": {
   "display_name": "Python [default]",
   "language": "python",
   "name": "python3"
  },
  "language_info": {
   "codemirror_mode": {
    "name": "ipython",
    "version": 3
   },
   "file_extension": ".py",
   "mimetype": "text/x-python",
   "name": "python",
   "nbconvert_exporter": "python",
   "pygments_lexer": "ipython3",
   "version": "3.5.2"
  }
 },
 "nbformat": 4,
 "nbformat_minor": 2
}
